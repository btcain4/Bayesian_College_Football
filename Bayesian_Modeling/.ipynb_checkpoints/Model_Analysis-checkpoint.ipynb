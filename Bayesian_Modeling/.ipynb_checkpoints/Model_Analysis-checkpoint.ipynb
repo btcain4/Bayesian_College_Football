{
 "cells": [
  {
   "cell_type": "code",
   "execution_count": 1,
   "id": "add101c4",
   "metadata": {},
   "outputs": [
    {
     "ename": "SyntaxError",
     "evalue": "invalid syntax (<ipython-input-1-bae31524da30>, line 2)",
     "output_type": "error",
     "traceback": [
      "\u001b[1;36m  File \u001b[1;32m\"<ipython-input-1-bae31524da30>\"\u001b[1;36m, line \u001b[1;32m2\u001b[0m\n\u001b[1;33m    Script Name: feature_exploration.ipynb\u001b[0m\n\u001b[1;37m              ^\u001b[0m\n\u001b[1;31mSyntaxError\u001b[0m\u001b[1;31m:\u001b[0m invalid syntax\n"
     ]
    }
   ],
   "source": [
    "## Feature Engineering\n",
    "Script Name: feature_exploration.ipynb\n",
    "\n",
    "Author: Brian Cain\n",
    "\n",
    "\n",
    "The purpose of this notebook is to use the cleaned data from the Data Wrangling process and create features necessary/useful in bayesian predictive modeling. These features will also be analyzed for elements such as collinearity which will effect model making decisions. The product of this notebook will be a finalized dataframe used for predictive modeling. All functions resulting from this notebook can be found in feature_creation.ipynb. \n",
    "\n",
    "<hr>"
   ]
  }
 ],
 "metadata": {
  "kernelspec": {
   "display_name": "Python 3",
   "language": "python",
   "name": "python3"
  },
  "language_info": {
   "codemirror_mode": {
    "name": "ipython",
    "version": 3
   },
   "file_extension": ".py",
   "mimetype": "text/x-python",
   "name": "python",
   "nbconvert_exporter": "python",
   "pygments_lexer": "ipython3",
   "version": "3.7.11"
  }
 },
 "nbformat": 4,
 "nbformat_minor": 5
}
