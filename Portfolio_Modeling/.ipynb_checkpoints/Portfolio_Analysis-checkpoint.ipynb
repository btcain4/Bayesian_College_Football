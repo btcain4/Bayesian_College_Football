{
 "cells": [
  {
   "cell_type": "markdown",
   "id": "a78ddbf1",
   "metadata": {},
   "source": [
    "## Markowitz Portfolio Optimization\n",
    "Script Name: Portfolio_Analysis.ipynb\n",
    "\n",
    "Author: Brian Cain\n",
    "\n",
    "\n",
    "This notebook utilizes the posterior distributions over the probability a team wins a game $p$, and optimizes an expected betting portfolio return based on the Markowitze framework. This framework will be used to maximize the expected return of betting while minimzing the variance.  \n",
    "\n",
    "<hr>\n",
    "\n",
    "Note that this notebook has several functions re-used from the Model_Analysis.ipynb, as is necessary in order to explore this portfolio optimization. "
   ]
  },
  {
   "cell_type": "code",
   "execution_count": 9,
   "id": "805e427c",
   "metadata": {},
   "outputs": [],
   "source": [
    "## Import necessary functions\n",
    "import numpy as np\n",
    "import scipy"
   ]
  },
  {
   "cell_type": "markdown",
   "id": "ab74cb5d",
   "metadata": {},
   "source": [
    "Function that produces the winnings of a bet if won."
   ]
  },
  {
   "cell_type": "code",
   "execution_count": 5,
   "id": "17f8a230",
   "metadata": {},
   "outputs": [],
   "source": [
    "##Define function that will give the moneyline winnings for event outcome\n",
    "def moneyLine(wager,odds):\n",
    "    \n",
    "    ##Betting on the favorite\n",
    "    if odds < 0:\n",
    "        winnings = wager/(-1*odds/100)\n",
    "    else:\n",
    "        winnings = wager * (odds/100)\n",
    "        \n",
    "    return winnings"
   ]
  },
  {
   "cell_type": "markdown",
   "id": "c9d5c205",
   "metadata": {},
   "source": [
    "Define the objective function of the optimization.  "
   ]
  },
  {
   "cell_type": "code",
   "execution_count": 30,
   "id": "1afad0b9",
   "metadata": {},
   "outputs": [],
   "source": [
    "def objective_func(x, oddsList, prob_list):\n",
    "    \n",
    "    ## Create list of returns if bet wins\n",
    "    return_list = [moneyLine(1, i) for i in oddsList]\n",
    "    \n",
    "    ## Compute the expected returns\n",
    "    expected_returns = [i*j for i,j in zip(return_list, prob_list)]\n",
    "    \n",
    "    ## Compute the objective function\n",
    "    objective_val = np.matmul(expected_returns, np.transpose(x))\n",
    "    \n",
    "    return -objective_val\n"
   ]
  },
  {
   "cell_type": "markdown",
   "id": "133e0191",
   "metadata": {},
   "source": [
    "Define function creating distributions over optimization parameters."
   ]
  },
  {
   "cell_type": "code",
   "execution_count": 127,
   "id": "137bafbd",
   "metadata": {},
   "outputs": [],
   "source": [
    "def optimize_portfolio(x, p_dist_list, oddsList, n_samps):\n",
    "\n",
    "    ## Storage location for optimization data\n",
    "    opt_data = []\n",
    "    \n",
    "    ## Define the normalization constraint so proportions sum to 1\n",
    "    def normalization_constraint(x):\n",
    "        return np.sum(x)\n",
    "    normalization_nlc = NonlinearConstraint(normalization_constraint, 1, 1)\n",
    "    \n",
    "    ## Bound each variable between 0 and 1\n",
    "    bnds = tuple((0, 1) for i in range(len(oddsList)))\n",
    "    \n",
    "    ## Iterate through amount of optimizations we'd like to perform\n",
    "    for i in range(n_samps):\n",
    "        \n",
    "        ## Pull random sample of probability from each posterior distribution\n",
    "        probList = []\n",
    "        for i in p_dist_list:\n",
    "            probList.append(np.random.choice(i))\n",
    "            \n",
    "        ## Define variance constraint with current probability list\n",
    "        def variance_constraint(x):\n",
    "\n",
    "            ## Create list of returns if bet wins\n",
    "            return_list = [moneyLine(1, i) for i in oddsList]\n",
    "\n",
    "            ## Compute list of variances\n",
    "            var_list = [(i**2)*((j**2)*p - (j*p)**2) for i,j,p in zip(x, return_list, probList)]\n",
    "\n",
    "            ## Return variance\n",
    "            return np.sum(var_list)\n",
    "        variance_nlc = NonlinearConstraint(variance_constraint, 0, .25)\n",
    "        \n",
    "        ## Perform optimization with current posterior distribution sample\n",
    "        opt_result = scipy.optimize.minimize(objective_func, x, args=(oddsList, probList), method='SLSQP', bounds=bnds, \n",
    "                        constraints=(normalization_nlc, variance_nlc))\n",
    "        \n",
    "        ## Order important optimization information into data structur\n",
    "        data = [i for i in opt_result['x']]\n",
    "        data.append(opt_result['fun'])\n",
    "        data.append(opt_result['success'])\n",
    "        data.append(variance_constraint(opt_result['x']))\n",
    "        opt_data.append(data)\n",
    "        \n",
    "    col_names = ['x'+str(i) for i in range(len(x))]\n",
    "    col_names.append('of')\n",
    "    col_names.append('success')\n",
    "    col_names.append('variance')\n",
    "        \n",
    "    return pd.DataFrame(opt_data, columns = col_names)"
   ]
  },
  {
   "cell_type": "markdown",
   "id": "fc2f5823",
   "metadata": {},
   "source": [
    "### Test Run of Optimization Algorithm over Dummy Example Games"
   ]
  },
  {
   "cell_type": "code",
   "execution_count": 81,
   "id": "2d1a1a81",
   "metadata": {},
   "outputs": [],
   "source": [
    "import pandas as pd\n",
    "\n",
    "## Pull in final posterior distribution of parameters\n",
    "beta0 = pd.read_csv('D:\\College_Football_Model_Data\\\\mh_posteriors\\\\beta0.csv')\n",
    "beta1 = pd.read_csv('D:\\College_Football_Model_Data\\\\mh_posteriors\\\\beta1.csv')\n",
    "finalPosterior = beta0[50000:].append(beta1[50000:], ignore_index=True)\n",
    "postBeta_hat = np.array([np.mean(finalPosterior['beta_'+str(i)]) for i in range(14)])\n",
    "\n",
    "## Pull in data and perform normalization\n",
    "data = pd.read_csv('D:\\\\College_Football_Model_Data\\\\modelData.csv')\n",
    "\n",
    "##Perform z-score normalization of the data\n",
    "def z_score_normalization(df,col):\n",
    "    \n",
    "    ##Compute variables necessary for this \n",
    "    mu = np.mean(df[col])\n",
    "    std = np.std(df[col])\n",
    "    \n",
    "    ##Replace column with normalized column\n",
    "    df[col] = (df[col]-mu)/std\n",
    "    \n",
    "    return df\n",
    "\n",
    "##Now perform normalization\n",
    "predictors = ['offDiff_rush_td_movAvg', 'defDiff_pass_td_movAvg',\n",
    "       'offDiff_yp_rush_movAvg', 'defDiff_pass_yards_movAvg',\n",
    "       'offDiff_total_yards_movAvg', 'defDiff_turnovers_movAvg',\n",
    "       'defDiff_firstDowns_movAvg', 'defDiff_offensive_ppa_movAvg',\n",
    "       'offDiff_offensive_powerSuccess_movAvg',\n",
    "       'defDiff_completion_pct_movAvg', 'defDiff_third_pct_movAvg',\n",
    "       'gameDiff_gameControl_movAvg', 'gameDiff_elo_movAvg']\n",
    "for i in predictors:\n",
    "    data = z_score_normalization(data,i)\n",
    "    \n",
    "x = data[predictors].to_numpy()\n",
    "i = np.ones((len(x),1))\n",
    "x = np.hstack((i,x))"
   ]
  },
  {
   "cell_type": "code",
   "execution_count": 82,
   "id": "e3b693f5",
   "metadata": {},
   "outputs": [],
   "source": [
    "##Create distribution over p\n",
    "def p_dist(finalPosterior_np,x_data_np):\n",
    "    \n",
    "    ##Storage location for p\n",
    "    p_vals = []\n",
    "    \n",
    "    ##Iterate through the posterior distribution \n",
    "    for i in finalPosterior_np:\n",
    "        \n",
    "        betas = i[:-1] ##Exclude lambda shrinkage parameter\n",
    "        p_vals.append(np.exp(np.matmul(x_data_np,betas))/(1+np.exp(np.matmul(x_data_np,betas))))\n",
    "    \n",
    "    return p_vals"
   ]
  },
  {
   "cell_type": "code",
   "execution_count": 123,
   "id": "59ab8a9f",
   "metadata": {},
   "outputs": [],
   "source": [
    "import matplotlib.pyplot as plt\n",
    "\n",
    "## Filter to Colorado vs. Oregon State game\n",
    "colorado_x = np.append(np.array([1]),\n",
    "                       data.loc[(data['school']=='Colorado') & (data['week_num']==10) & (data['gameSeason']==2021),predictors].to_numpy()[0])\n",
    "\n",
    "##Generate posterior distribution over p\n",
    "from matplotlib.ticker import FormatStrFormatter\n",
    "ps = p_dist(finalPosterior.to_numpy(),colorado_x)\n",
    "\n",
    "##Generate posterior predictive distributions for each of the games\n",
    "postPred_list = [p_dist(finalPosterior.to_numpy(),x[30]),\n",
    "                 p_dist(finalPosterior.to_numpy(),x[40]),\n",
    "                 p_dist(finalPosterior.to_numpy(),x[50]),\n",
    "                 p_dist(finalPosterior.to_numpy(),x[60]),\n",
    "                p_dist(finalPosterior.to_numpy(),x[70]),\n",
    "                p_dist(finalPosterior.to_numpy(),x[80])]"
   ]
  },
  {
   "cell_type": "code",
   "execution_count": 131,
   "id": "9005927a",
   "metadata": {},
   "outputs": [],
   "source": [
    "y = optimize_portfolio([1,1,1,1,1,1], postPred_list, [1000,200,800,200,-300,400], 100)"
   ]
  },
  {
   "cell_type": "code",
   "execution_count": 132,
   "id": "4eed0377",
   "metadata": {},
   "outputs": [
    {
     "data": {
      "text/html": [
       "<div>\n",
       "<style scoped>\n",
       "    .dataframe tbody tr th:only-of-type {\n",
       "        vertical-align: middle;\n",
       "    }\n",
       "\n",
       "    .dataframe tbody tr th {\n",
       "        vertical-align: top;\n",
       "    }\n",
       "\n",
       "    .dataframe thead th {\n",
       "        text-align: right;\n",
       "    }\n",
       "</style>\n",
       "<table border=\"1\" class=\"dataframe\">\n",
       "  <thead>\n",
       "    <tr style=\"text-align: right;\">\n",
       "      <th></th>\n",
       "      <th>x0</th>\n",
       "      <th>x1</th>\n",
       "      <th>x2</th>\n",
       "      <th>x3</th>\n",
       "      <th>x4</th>\n",
       "      <th>x5</th>\n",
       "      <th>of</th>\n",
       "      <th>success</th>\n",
       "      <th>variance</th>\n",
       "    </tr>\n",
       "  </thead>\n",
       "  <tbody>\n",
       "    <tr>\n",
       "      <th>95</th>\n",
       "      <td>0.099803</td>\n",
       "      <td>0.168753</td>\n",
       "      <td>0.035841</td>\n",
       "      <td>0.131708</td>\n",
       "      <td>0.496654</td>\n",
       "      <td>0.067240</td>\n",
       "      <td>-1.103979</td>\n",
       "      <td>True</td>\n",
       "      <td>0.25</td>\n",
       "    </tr>\n",
       "    <tr>\n",
       "      <th>96</th>\n",
       "      <td>0.084880</td>\n",
       "      <td>0.205964</td>\n",
       "      <td>0.040915</td>\n",
       "      <td>0.147852</td>\n",
       "      <td>0.444938</td>\n",
       "      <td>0.075451</td>\n",
       "      <td>-1.028849</td>\n",
       "      <td>True</td>\n",
       "      <td>0.25</td>\n",
       "    </tr>\n",
       "    <tr>\n",
       "      <th>97</th>\n",
       "      <td>0.099269</td>\n",
       "      <td>0.162683</td>\n",
       "      <td>0.035146</td>\n",
       "      <td>0.145850</td>\n",
       "      <td>0.489386</td>\n",
       "      <td>0.067667</td>\n",
       "      <td>-1.122245</td>\n",
       "      <td>True</td>\n",
       "      <td>0.25</td>\n",
       "    </tr>\n",
       "    <tr>\n",
       "      <th>98</th>\n",
       "      <td>0.093864</td>\n",
       "      <td>0.181116</td>\n",
       "      <td>0.039825</td>\n",
       "      <td>0.145225</td>\n",
       "      <td>0.475638</td>\n",
       "      <td>0.064332</td>\n",
       "      <td>-1.054953</td>\n",
       "      <td>True</td>\n",
       "      <td>0.25</td>\n",
       "    </tr>\n",
       "    <tr>\n",
       "      <th>99</th>\n",
       "      <td>0.093839</td>\n",
       "      <td>0.168935</td>\n",
       "      <td>0.039864</td>\n",
       "      <td>0.153904</td>\n",
       "      <td>0.477395</td>\n",
       "      <td>0.066062</td>\n",
       "      <td>-1.070580</td>\n",
       "      <td>True</td>\n",
       "      <td>0.25</td>\n",
       "    </tr>\n",
       "  </tbody>\n",
       "</table>\n",
       "</div>"
      ],
      "text/plain": [
       "          x0        x1        x2        x3        x4        x5        of  \\\n",
       "95  0.099803  0.168753  0.035841  0.131708  0.496654  0.067240 -1.103979   \n",
       "96  0.084880  0.205964  0.040915  0.147852  0.444938  0.075451 -1.028849   \n",
       "97  0.099269  0.162683  0.035146  0.145850  0.489386  0.067667 -1.122245   \n",
       "98  0.093864  0.181116  0.039825  0.145225  0.475638  0.064332 -1.054953   \n",
       "99  0.093839  0.168935  0.039864  0.153904  0.477395  0.066062 -1.070580   \n",
       "\n",
       "    success  variance  \n",
       "95     True      0.25  \n",
       "96     True      0.25  \n",
       "97     True      0.25  \n",
       "98     True      0.25  \n",
       "99     True      0.25  "
      ]
     },
     "execution_count": 132,
     "metadata": {},
     "output_type": "execute_result"
    }
   ],
   "source": [
    "y.tail()"
   ]
  },
  {
   "cell_type": "code",
   "execution_count": 133,
   "id": "60e7177f",
   "metadata": {},
   "outputs": [
    {
     "data": {
      "text/plain": [
       "(array([ 1.,  0.,  3.,  5.,  8., 14., 21., 21., 20.,  7.]),\n",
       " array([-1.40855585, -1.36033745, -1.31211905, -1.26390065, -1.21568226,\n",
       "        -1.16746386, -1.11924546, -1.07102706, -1.02280867, -0.97459027,\n",
       "        -0.92637187]),\n",
       " <BarContainer object of 10 artists>)"
      ]
     },
     "execution_count": 133,
     "metadata": {},
     "output_type": "execute_result"
    },
    {
     "data": {
      "image/png": "[encoded data removed]",
      "text/plain": [
       "<Figure size 432x288 with 1 Axes>"
      ]
     },
     "metadata": {
      "needs_background": "light"
     },
     "output_type": "display_data"
    }
   ],
   "source": [
    "plt.hist(y['of'])"
   ]
  },
  {
   "cell_type": "code",
   "execution_count": 134,
   "id": "8412384d",
   "metadata": {},
   "outputs": [],
   "source": [
    "##Define function that will assemble sampled distribution of winnings from bets and posterior predictive distribution \n",
    "def posterior_winnings(postPred_list,wagerList,oddsList,betList,samp_num):\n",
    "    \n",
    "    ##Storage location for winnings\n",
    "    winnings_dist = []\n",
    "    \n",
    "    ##Iterate through the number of samples we'd like to collect\n",
    "    for i in range(samp_num):\n",
    "        \n",
    "        ##Initiate winnings for the current run\n",
    "        winnings = 0\n",
    "        \n",
    "        ##Iterate through each game that is being bet on\n",
    "        for j in range(len(postPred_list)):\n",
    "            \n",
    "            ##Assign variables for current game\n",
    "            postPred = postPred_list[j]\n",
    "            wager = wagerList[j]\n",
    "            odds = oddsList[j]\n",
    "            bet = betList[j]\n",
    "            \n",
    "            ##Sample from posterior predictive distribution \n",
    "            postSamp = np.random.binomial(1,len(postPred[postPred==1])/len(postPred))\n",
    "            \n",
    "            ##Determine winnings of bet\n",
    "            if np.abs(postSamp - bet) < .00001: ##Avoid weird roundoff error\n",
    "                winnings += moneyLine(wager,odds)\n",
    "            else:\n",
    "                winnings += -wager\n",
    "                \n",
    "        ##Add winnings to distribution of winnings\n",
    "        winnings_dist.append(winnings)\n",
    "    \n",
    "    return winnings_dist"
   ]
  },
  {
   "cell_type": "code",
   "execution_count": 135,
   "id": "172740c7",
   "metadata": {},
   "outputs": [],
   "source": [
    "##Define function to draw samples from posterior predictive distribution \n",
    "def posterior_predictive(p_vals):\n",
    "    \n",
    "    ##Storage location for posterior predictive distribution\n",
    "    postPred = []\n",
    "    \n",
    "    ##Iterate through distribution of p-values\n",
    "    for i in p_vals:\n",
    "        \n",
    "        ##Generate sample from binomial distribution\n",
    "        postPred.append(np.random.binomial(1,i))\n",
    "        \n",
    "    return np.array(postPred)\n",
    "\n",
    "postPred_list = [posterior_predictive(p_dist(finalPosterior.to_numpy(),x[30])),\n",
    "                 posterior_predictive(p_dist(finalPosterior.to_numpy(),x[40])),\n",
    "                 posterior_predictive(p_dist(finalPosterior.to_numpy(),x[50])),\n",
    "                 posterior_predictive(p_dist(finalPosterior.to_numpy(),x[60])),\n",
    "                posterior_predictive(p_dist(finalPosterior.to_numpy(),x[70])),\n",
    "                posterior_predictive(p_dist(finalPosterior.to_numpy(),x[80]))]"
   ]
  },
  {
   "cell_type": "code",
   "execution_count": 146,
   "id": "ce7316a9",
   "metadata": {},
   "outputs": [],
   "source": [
    "wagerList = [0.099803*10, 0.168753*10, 0.035841*10, 0.131708*10, 0.496654*10, 0.067240*10]\n",
    "oddsList = [1000,200,800,200,-300,400]\n",
    "betList = [1,0,0,0,0,0]\n",
    "samp_num = 100000\n",
    "winDist = posterior_winnings(postPred_list,wagerList,oddsList,betList,samp_num)"
   ]
  },
  {
   "cell_type": "code",
   "execution_count": 147,
   "id": "27067d7c",
   "metadata": {},
   "outputs": [
    {
     "data": {
      "text/plain": [
       "Text(0.5, 0, 'Net Winnings in $')"
      ]
     },
     "execution_count": 147,
     "metadata": {},
     "output_type": "execute_result"
    },
    {
     "data": {
      "image/png": "[encoded data removed]",
      "text/plain": [
       "<Figure size 432x288 with 1 Axes>"
      ]
     },
     "metadata": {
      "needs_background": "light"
     },
     "output_type": "display_data"
    }
   ],
   "source": [
    "plt.hist(winDist,bins=20)\n",
    "plt.title('Distribution over Net Winnings')\n",
    "plt.xlabel('Net Winnings in $')"
   ]
  }
 ],
 "metadata": {
  "kernelspec": {
   "display_name": "Python 3",
   "language": "python",
   "name": "python3"
  },
  "language_info": {
   "codemirror_mode": {
    "name": "ipython",
    "version": 3
   },
   "file_extension": ".py",
   "mimetype": "text/x-python",
   "name": "python",
   "nbconvert_exporter": "python",
   "pygments_lexer": "ipython3",
   "version": "3.7.11"
  }
 },
 "nbformat": 4,
 "nbformat_minor": 5
}
