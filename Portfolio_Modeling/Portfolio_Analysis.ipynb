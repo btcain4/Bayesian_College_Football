{
 "cells": [
  {
   "cell_type": "markdown",
   "id": "a78ddbf1",
   "metadata": {},
   "source": [
    "## Markowitz Portfolio Optimization\n",
    "Script Name: Portfolio_Analysis.ipynb\n",
    "\n",
    "Author: Brian Cain\n",
    "\n",
    "\n",
    "This notebook utilizes the posterior distributions over the probability a team wins a game $p$, and optimizes an expected betting portfolio return based on the Markowitze framework. This framework will be used to maximize the expected return of betting while minimzing the variance.  \n",
    "\n",
    "<hr>\n",
    "\n",
    "Note that this notebook has several functions re-used from the Model_Analysis.ipynb, as is necessary in order to explore this portfolio optimization. "
   ]
  },
  {
   "cell_type": "code",
   "execution_count": 9,
   "id": "805e427c",
   "metadata": {},
   "outputs": [],
   "source": [
    "## Import necessary functions\n",
    "import numpy as np\n",
    "import scipy"
   ]
  },
  {
   "cell_type": "markdown",
   "id": "ab74cb5d",
   "metadata": {},
   "source": [
    "Function that produces the winnings of a bet if won."
   ]
  },
  {
   "cell_type": "code",
   "execution_count": 5,
   "id": "17f8a230",
   "metadata": {},
   "outputs": [],
   "source": [
    "##Define function that will give the moneyline winnings for event outcome\n",
    "def moneyLine(wager,odds):\n",
    "    \n",
    "    ##Betting on the favorite\n",
    "    if odds < 0:\n",
    "        winnings = wager/(-1*odds/100)\n",
    "    else:\n",
    "        winnings = wager * (odds/100)\n",
    "        \n",
    "    return winnings"
   ]
  },
  {
   "cell_type": "markdown",
   "id": "c9d5c205",
   "metadata": {},
   "source": [
    "Define the objective function of the optimization.  "
   ]
  },
  {
   "cell_type": "code",
   "execution_count": 30,
   "id": "1afad0b9",
   "metadata": {},
   "outputs": [],
   "source": [
    "def objective_func(x, oddsList, prob_list):\n",
    "    \n",
    "    ## Create list of returns if bet wins\n",
    "    return_list = [moneyLine(1, i) for i in oddsList]\n",
    "    \n",
    "    ## Compute the expected returns\n",
    "    expected_returns = [i*j for i,j in zip(return_list, prob_list)]\n",
    "    \n",
    "    ## Compute the objective function\n",
    "    objective_val = np.matmul(expected_returns, np.transpose(x))\n",
    "    \n",
    "    return -objective_val\n"
   ]
  },
  {
   "cell_type": "markdown",
   "id": "133e0191",
   "metadata": {},
   "source": [
    "Define function creating distributions over optimization parameters."
   ]
  },
  {
   "cell_type": "code",
   "execution_count": 71,
   "id": "137bafbd",
   "metadata": {},
   "outputs": [],
   "source": [
    "def optimize_portfolio(x, p_dist_list, oddsList, n_samps):\n",
    "\n",
    "    ## Storage location for optimization data\n",
    "    opt_data = []\n",
    "    \n",
    "    ## Define the normalization constraint so proportions sum to 1\n",
    "    def normalization_constraint(x):\n",
    "        return np.sum(x)\n",
    "    normalization_nlc = NonlinearConstraint(normalization_constraint, 1, 1)\n",
    "    \n",
    "    ## Bound each variable between 0 and 1\n",
    "    bnds = tuple((0, 1) for i in range(len(oddsList)))\n",
    "    \n",
    "    ## Iterate through amount of optimizations we'd like to perform\n",
    "    for i in n_samps:\n",
    "        \n",
    "        ## Pull random sample of probability from each posterior distribution\n",
    "        probList = []\n",
    "        for i in p_dist_list:\n",
    "            probList.append(np.random.choice(i))\n",
    "            \n",
    "        ## Define variance constraint with current probability list\n",
    "        def variance_constraint(x):\n",
    "\n",
    "            ## Create list of returns if bet wins\n",
    "            return_list = [moneyLine(1, i) for i in oddsList]\n",
    "\n",
    "            ## Compute list of variances\n",
    "            var_list = [(i**2)*((j**2)*p - (j*p)**2) for i,j,p in zip(x, return_list, probList)]\n",
    "\n",
    "            ## Return variance\n",
    "            return np.sum(var_list)\n",
    "        variance_nlc = NonlinearConstraint(variance_constraint, 0, .5)\n",
    "        \n",
    "        ## Perform optimization with current posterior distribution sample\n",
    "        opt_result = scipy.optimize.minimize(objective_func, x, args=(oddsList, probList), method='SLSQP', bounds=bnds, \n",
    "                        constraints=(normalization_nlc, variance_nlc))\n",
    "        \n",
    "        ## Order important optimization information into data structure\n",
    "        opt_data.append(opt_result)\n",
    "        \n",
    "        \n",
    "    return opt_data"
   ]
  },
  {
   "cell_type": "markdown",
   "id": "f2101fa0",
   "metadata": {},
   "source": [
    "### Test Run of Optimization Algorithm over Dummy Example Games"
   ]
  }
 ],
 "metadata": {
  "kernelspec": {
   "display_name": "Python 3",
   "language": "python",
   "name": "python3"
  },
  "language_info": {
   "codemirror_mode": {
    "name": "ipython",
    "version": 3
   },
   "file_extension": ".py",
   "mimetype": "text/x-python",
   "name": "python",
   "nbconvert_exporter": "python",
   "pygments_lexer": "ipython3",
   "version": "3.7.11"
  }
 },
 "nbformat": 4,
 "nbformat_minor": 5
}
