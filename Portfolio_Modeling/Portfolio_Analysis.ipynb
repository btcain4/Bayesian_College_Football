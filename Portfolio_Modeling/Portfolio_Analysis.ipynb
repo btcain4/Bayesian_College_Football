{
 "cells": [
  {
   "cell_type": "markdown",
   "id": "a78ddbf1",
   "metadata": {},
   "source": [
    "## Markowitz Portfolio Optimization\n",
    "Script Name: Portfolio_Analysis.ipynb\n",
    "\n",
    "Author: Brian Cain\n",
    "\n",
    "\n",
    "This notebook utilizes the posterior distributions over the probability a team wins a game $p$, and optimizes an expected betting portfolio return based on the Markowitze framework. This framework will be used to maximize the expected return of betting while minimzing the variance.  \n",
    "\n",
    "<hr>\n",
    "\n",
    "Note that this notebook has several functions re-used from the Model_Analysis.ipynb, as is necessary in order to explore this portfolio optimization. "
   ]
  },
  {
   "cell_type": "markdown",
   "id": "ab74cb5d",
   "metadata": {},
   "source": [
    "Function that produces the winnings of a bet if won."
   ]
  },
  {
   "cell_type": "code",
   "execution_count": 1,
   "id": "17f8a230",
   "metadata": {},
   "outputs": [],
   "source": [
    "##Define function that will give the moneyline winnings for event outcome\n",
    "def moneyLine(wager,odds):\n",
    "    \n",
    "    ##Betting on the favorite\n",
    "    if odds < 0:\n",
    "        winnings = wager/(-1*odds/100)\n",
    "    else:\n",
    "        winnings = wager * (odds/100)\n",
    "        \n",
    "    return winnings"
   ]
  },
  {
   "cell_type": "code",
   "execution_count": 5,
   "id": "df12cabe",
   "metadata": {},
   "outputs": [
    {
     "data": {
      "text/plain": [
       "2.16"
      ]
     },
     "execution_count": 5,
     "metadata": {},
     "output_type": "execute_result"
    }
   ],
   "source": [
    "moneyLine(1,116)+1"
   ]
  },
  {
   "cell_type": "markdown",
   "id": "c9d5c205",
   "metadata": {},
   "source": [
    "Define function that optimizes portfolio subject to constraints. "
   ]
  },
  {
   "cell_type": "code",
   "execution_count": null,
   "id": "137bafbd",
   "metadata": {},
   "outputs": [],
   "source": [
    "def optimize_portfolio(ps_list,oddsList,betList):\n",
    "    \n",
    "    \n",
    "    \n",
    "    return 0"
   ]
  },
  {
   "cell_type": "code",
   "execution_count": null,
   "id": "4c42890d",
   "metadata": {},
   "outputs": [],
   "source": [
    "colorado_x = np.append(np.array([1]),\n",
    "                       data.loc[(data['school']=='Colorado') & (data['week_num']==10) & (data['gameSeason']==2021),predictors].to_numpy()[0])"
   ]
  }
 ],
 "metadata": {
  "kernelspec": {
   "display_name": "Python 3",
   "language": "python",
   "name": "python3"
  },
  "language_info": {
   "codemirror_mode": {
    "name": "ipython",
    "version": 3
   },
   "file_extension": ".py",
   "mimetype": "text/x-python",
   "name": "python",
   "nbconvert_exporter": "python",
   "pygments_lexer": "ipython3",
   "version": "3.7.11"
  }
 },
 "nbformat": 4,
 "nbformat_minor": 5
}
