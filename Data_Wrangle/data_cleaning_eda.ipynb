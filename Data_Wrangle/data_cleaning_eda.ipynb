{
 "cells": [
  {
   "cell_type": "markdown",
   "id": "176960c8",
   "metadata": {},
   "source": [
    "## Exploratory Data Analysis for Data Cleaning\n",
    "\n",
    "Script Name: data_cleaning_eda.ipynb\n",
    "\n",
    "Author: Brian Cain\n",
    "\n",
    "\n",
    "The purpose of this jupyter notebook is to explore the joined data for characteristics of the data that need to be cleaned before advancing to the data analysis phase. Findings from this EDA will motivate data cleaning functions defined in the data_cleaning.py script. This jupyter notebook will also be fluid through time in that if data issues arise in the future I will come back to this notebook to further explore the data issues and cite any changes to be made to data_cleaning.py.\n",
    "\n",
    "<hr>"
   ]
  },
  {
   "cell_type": "code",
   "execution_count": 1,
   "id": "c1660439",
   "metadata": {},
   "outputs": [],
   "source": [
    "##Import pandas for dataframe management/operations\n",
    "import pandas as pd\n",
    "\n",
    "##Import tabulate for organized table creation\n",
    "from tabulate import tabulate"
   ]
  },
  {
   "cell_type": "code",
   "execution_count": 2,
   "id": "4e17da09",
   "metadata": {},
   "outputs": [
    {
     "data": {
      "text/html": [
       "<div>\n",
       "<style scoped>\n",
       "    .dataframe tbody tr th:only-of-type {\n",
       "        vertical-align: middle;\n",
       "    }\n",
       "\n",
       "    .dataframe tbody tr th {\n",
       "        vertical-align: top;\n",
       "    }\n",
       "\n",
       "    .dataframe thead th {\n",
       "        text-align: right;\n",
       "    }\n",
       "</style>\n",
       "<table border=\"1\" class=\"dataframe\">\n",
       "  <thead>\n",
       "    <tr style=\"text-align: right;\">\n",
       "      <th></th>\n",
       "      <th>gameId</th>\n",
       "      <th>week_num</th>\n",
       "      <th>school</th>\n",
       "      <th>rush_td</th>\n",
       "      <th>pass_td</th>\n",
       "      <th>rush_attempt</th>\n",
       "      <th>yp_rush</th>\n",
       "      <th>rush_yards</th>\n",
       "      <th>yp_pass</th>\n",
       "      <th>completion_attempts</th>\n",
       "      <th>...</th>\n",
       "      <th>offensive_plays</th>\n",
       "      <th>offensive_drives</th>\n",
       "      <th>offensive_ppa</th>\n",
       "      <th>offensive_successRate</th>\n",
       "      <th>offensive_explosiveness</th>\n",
       "      <th>offensive_powerSuccess</th>\n",
       "      <th>offensive_stuffRate</th>\n",
       "      <th>offensive_lineYards</th>\n",
       "      <th>offensive_secondLevelYards</th>\n",
       "      <th>offensive_openFieldYards</th>\n",
       "    </tr>\n",
       "  </thead>\n",
       "  <tbody>\n",
       "    <tr>\n",
       "      <th>0</th>\n",
       "      <td>400603830</td>\n",
       "      <td>1</td>\n",
       "      <td>Florida</td>\n",
       "      <td>4</td>\n",
       "      <td>4</td>\n",
       "      <td>41</td>\n",
       "      <td>5.4</td>\n",
       "      <td>222</td>\n",
       "      <td>10.1</td>\n",
       "      <td>31-38</td>\n",
       "      <td>...</td>\n",
       "      <td>81.0</td>\n",
       "      <td>13.0</td>\n",
       "      <td>0.489647</td>\n",
       "      <td>0.567901</td>\n",
       "      <td>1.272267</td>\n",
       "      <td>0.666667</td>\n",
       "      <td>0.146341</td>\n",
       "      <td>3.360976</td>\n",
       "      <td>1.414634</td>\n",
       "      <td>1.121951</td>\n",
       "    </tr>\n",
       "    <tr>\n",
       "      <th>1</th>\n",
       "      <td>400603830</td>\n",
       "      <td>1</td>\n",
       "      <td>New Mexico State</td>\n",
       "      <td>1</td>\n",
       "      <td>1</td>\n",
       "      <td>22</td>\n",
       "      <td>2.9</td>\n",
       "      <td>64</td>\n",
       "      <td>4.7</td>\n",
       "      <td>15-29</td>\n",
       "      <td>...</td>\n",
       "      <td>51.0</td>\n",
       "      <td>13.0</td>\n",
       "      <td>0.000437</td>\n",
       "      <td>0.274510</td>\n",
       "      <td>1.332495</td>\n",
       "      <td>0.666667</td>\n",
       "      <td>0.250000</td>\n",
       "      <td>2.565000</td>\n",
       "      <td>0.950000</td>\n",
       "      <td>1.000000</td>\n",
       "    </tr>\n",
       "    <tr>\n",
       "      <th>2</th>\n",
       "      <td>400787302</td>\n",
       "      <td>1</td>\n",
       "      <td>Ohio</td>\n",
       "      <td>2</td>\n",
       "      <td>3</td>\n",
       "      <td>38</td>\n",
       "      <td>5.4</td>\n",
       "      <td>205</td>\n",
       "      <td>11.4</td>\n",
       "      <td>20-25</td>\n",
       "      <td>...</td>\n",
       "      <td>64.0</td>\n",
       "      <td>10.0</td>\n",
       "      <td>0.474904</td>\n",
       "      <td>0.531250</td>\n",
       "      <td>1.228407</td>\n",
       "      <td>1.000000</td>\n",
       "      <td>0.111111</td>\n",
       "      <td>3.752778</td>\n",
       "      <td>1.638889</td>\n",
       "      <td>1.388889</td>\n",
       "    </tr>\n",
       "    <tr>\n",
       "      <th>3</th>\n",
       "      <td>400787302</td>\n",
       "      <td>1</td>\n",
       "      <td>Idaho</td>\n",
       "      <td>2</td>\n",
       "      <td>1</td>\n",
       "      <td>28</td>\n",
       "      <td>3.6</td>\n",
       "      <td>100</td>\n",
       "      <td>6.2</td>\n",
       "      <td>36-48</td>\n",
       "      <td>...</td>\n",
       "      <td>78.0</td>\n",
       "      <td>12.0</td>\n",
       "      <td>0.094651</td>\n",
       "      <td>0.538462</td>\n",
       "      <td>0.832628</td>\n",
       "      <td>0.750000</td>\n",
       "      <td>0.080000</td>\n",
       "      <td>3.520000</td>\n",
       "      <td>1.080000</td>\n",
       "      <td>0.520000</td>\n",
       "    </tr>\n",
       "    <tr>\n",
       "      <th>4</th>\n",
       "      <td>400763403</td>\n",
       "      <td>1</td>\n",
       "      <td>Texas</td>\n",
       "      <td>0</td>\n",
       "      <td>0</td>\n",
       "      <td>29</td>\n",
       "      <td>2.1</td>\n",
       "      <td>60</td>\n",
       "      <td>4.5</td>\n",
       "      <td>8-23</td>\n",
       "      <td>...</td>\n",
       "      <td>53.0</td>\n",
       "      <td>12.0</td>\n",
       "      <td>-0.101281</td>\n",
       "      <td>0.264151</td>\n",
       "      <td>1.123873</td>\n",
       "      <td>0.000000</td>\n",
       "      <td>0.120000</td>\n",
       "      <td>2.532000</td>\n",
       "      <td>0.720000</td>\n",
       "      <td>0.040000</td>\n",
       "    </tr>\n",
       "  </tbody>\n",
       "</table>\n",
       "<p>5 rows × 40 columns</p>\n",
       "</div>"
      ],
      "text/plain": [
       "      gameId  week_num            school  rush_td  pass_td  rush_attempt  \\\n",
       "0  400603830         1           Florida        4        4            41   \n",
       "1  400603830         1  New Mexico State        1        1            22   \n",
       "2  400787302         1              Ohio        2        3            38   \n",
       "3  400787302         1             Idaho        2        1            28   \n",
       "4  400763403         1             Texas        0        0            29   \n",
       "\n",
       "   yp_rush  rush_yards  yp_pass completion_attempts  ...  offensive_plays  \\\n",
       "0      5.4         222     10.1               31-38  ...             81.0   \n",
       "1      2.9          64      4.7               15-29  ...             51.0   \n",
       "2      5.4         205     11.4               20-25  ...             64.0   \n",
       "3      3.6         100      6.2               36-48  ...             78.0   \n",
       "4      2.1          60      4.5                8-23  ...             53.0   \n",
       "\n",
       "   offensive_drives  offensive_ppa  offensive_successRate  \\\n",
       "0              13.0       0.489647               0.567901   \n",
       "1              13.0       0.000437               0.274510   \n",
       "2              10.0       0.474904               0.531250   \n",
       "3              12.0       0.094651               0.538462   \n",
       "4              12.0      -0.101281               0.264151   \n",
       "\n",
       "   offensive_explosiveness  offensive_powerSuccess  offensive_stuffRate  \\\n",
       "0                 1.272267                0.666667             0.146341   \n",
       "1                 1.332495                0.666667             0.250000   \n",
       "2                 1.228407                1.000000             0.111111   \n",
       "3                 0.832628                0.750000             0.080000   \n",
       "4                 1.123873                0.000000             0.120000   \n",
       "\n",
       "   offensive_lineYards offensive_secondLevelYards offensive_openFieldYards  \n",
       "0             3.360976                   1.414634                 1.121951  \n",
       "1             2.565000                   0.950000                 1.000000  \n",
       "2             3.752778                   1.638889                 1.388889  \n",
       "3             3.520000                   1.080000                 0.520000  \n",
       "4             2.532000                   0.720000                 0.040000  \n",
       "\n",
       "[5 rows x 40 columns]"
      ]
     },
     "execution_count": 2,
     "metadata": {},
     "output_type": "execute_result"
    }
   ],
   "source": [
    "##Pull in the joined dataframe\n",
    "joinedDf = pd.read_csv('D:\\\\College_Football_Model_Data\\\\joinedDf.csv')\n",
    "\n",
    "##Display the first couple rows of the data to ensure its been pulled in \n",
    "joinedDf.head()"
   ]
  },
  {
   "cell_type": "markdown",
   "id": "9b77eb66",
   "metadata": {},
   "source": [
    "Lets first examine the data types of the data to see which features might need cleaning to start."
   ]
  },
  {
   "cell_type": "code",
   "execution_count": 3,
   "id": "08e33599",
   "metadata": {},
   "outputs": [
    {
     "name": "stdout",
     "output_type": "stream",
     "text": [
      "<class 'pandas.core.frame.DataFrame'>\n",
      "RangeIndex: 10078 entries, 0 to 10077\n",
      "Data columns (total 40 columns):\n",
      " #   Column                      Non-Null Count  Dtype  \n",
      "---  ------                      --------------  -----  \n",
      " 0   gameId                      10078 non-null  int64  \n",
      " 1   week_num                    10078 non-null  int64  \n",
      " 2   school                      10078 non-null  object \n",
      " 3   rush_td                     10078 non-null  int64  \n",
      " 4   pass_td                     10078 non-null  int64  \n",
      " 5   rush_attempt                10078 non-null  int64  \n",
      " 6   yp_rush                     10078 non-null  float64\n",
      " 7   rush_yards                  10078 non-null  int64  \n",
      " 8   yp_pass                     10078 non-null  float64\n",
      " 9   completion_attempts         10078 non-null  object \n",
      " 10  pass_yards                  10078 non-null  int64  \n",
      " 11  total_yards                 10078 non-null  int64  \n",
      " 12  turnovers                   10078 non-null  int64  \n",
      " 13  tfl                         10078 non-null  float64\n",
      " 14  sacks                       10078 non-null  float64\n",
      " 15  qb_hurries                  10078 non-null  int64  \n",
      " 16  fumbles_lost                10078 non-null  int64  \n",
      " 17  interceptions               10078 non-null  int64  \n",
      " 18  possession_time             10078 non-null  object \n",
      " 19  penalty_yards               10078 non-null  object \n",
      " 20  fourthDown_eff              10078 non-null  object \n",
      " 21  thirdDown_eff               10078 non-null  object \n",
      " 22  firstDowns                  10078 non-null  int64  \n",
      " 23  defensive_td                10078 non-null  int64  \n",
      " 24  homeBool                    10078 non-null  int64  \n",
      " 25  gameSeason                  9387 non-null   float64\n",
      " 26  team_id                     9387 non-null   float64\n",
      " 27  points                      9387 non-null   float64\n",
      " 28  Quarterly_points            9387 non-null   object \n",
      " 29  elo                         8742 non-null   float64\n",
      " 30  offensive_plays             9934 non-null   float64\n",
      " 31  offensive_drives            9934 non-null   float64\n",
      " 32  offensive_ppa               9934 non-null   float64\n",
      " 33  offensive_successRate       9934 non-null   float64\n",
      " 34  offensive_explosiveness     9934 non-null   float64\n",
      " 35  offensive_powerSuccess      9934 non-null   float64\n",
      " 36  offensive_stuffRate         9934 non-null   float64\n",
      " 37  offensive_lineYards         9934 non-null   float64\n",
      " 38  offensive_secondLevelYards  9931 non-null   float64\n",
      " 39  offensive_openFieldYards    9687 non-null   float64\n",
      "dtypes: float64(18), int64(15), object(7)\n",
      "memory usage: 3.1+ MB\n"
     ]
    }
   ],
   "source": [
    "##Display the dataframe data types\n",
    "joinedDf.info()"
   ]
  },
  {
   "cell_type": "markdown",
   "id": "5a4dd61d",
   "metadata": {},
   "source": [
    "From prior knowledge of this dataset, all the float64 and int64 data objects look correct as is. We can note some object data type columns that we must deal with in order to start cleaning the dataset. These are listed below:\n",
    "\n",
    "<b><i>Hyphenated Data:</i></b>\n",
    "* completion_attempts\n",
    "* penalty_yards\n",
    "* fourthDown_eff\n",
    "* thirdDown_eff\n",
    "\n",
    "<b><i>Time Data:</i></b>\n",
    "* possession_time\n",
    "\n",
    "<b><i>List Data:</i></b>\n",
    "* Quarterly_points\n",
    "\n",
    "In the section below we will perform transformations to better format the dataset to the columns listed above. \n",
    "\n",
    "### Hyphenated Data\n",
    "\n",
    "Below we will take a look at what is meant by \"hyphenated\" data. Essentially this is a datapoint where there is a \"-\" between two integers to indicates that a team has gone \"# for #\" in some statistic."
   ]
  },
  {
   "cell_type": "code",
   "execution_count": 4,
   "id": "0db79614",
   "metadata": {},
   "outputs": [
    {
     "data": {
      "text/html": [
       "<div>\n",
       "<style scoped>\n",
       "    .dataframe tbody tr th:only-of-type {\n",
       "        vertical-align: middle;\n",
       "    }\n",
       "\n",
       "    .dataframe tbody tr th {\n",
       "        vertical-align: top;\n",
       "    }\n",
       "\n",
       "    .dataframe thead th {\n",
       "        text-align: right;\n",
       "    }\n",
       "</style>\n",
       "<table border=\"1\" class=\"dataframe\">\n",
       "  <thead>\n",
       "    <tr style=\"text-align: right;\">\n",
       "      <th></th>\n",
       "      <th>completion_attempts</th>\n",
       "      <th>penalty_yards</th>\n",
       "      <th>fourthDown_eff</th>\n",
       "      <th>thirdDown_eff</th>\n",
       "    </tr>\n",
       "  </thead>\n",
       "  <tbody>\n",
       "    <tr>\n",
       "      <th>0</th>\n",
       "      <td>31-38</td>\n",
       "      <td>1-10</td>\n",
       "      <td>2-2</td>\n",
       "      <td>10-15</td>\n",
       "    </tr>\n",
       "    <tr>\n",
       "      <th>1</th>\n",
       "      <td>15-29</td>\n",
       "      <td>1-9</td>\n",
       "      <td>2-3</td>\n",
       "      <td>1-12</td>\n",
       "    </tr>\n",
       "    <tr>\n",
       "      <th>2</th>\n",
       "      <td>20-25</td>\n",
       "      <td>10-92</td>\n",
       "      <td>0-0</td>\n",
       "      <td>5-10</td>\n",
       "    </tr>\n",
       "    <tr>\n",
       "      <th>3</th>\n",
       "      <td>36-48</td>\n",
       "      <td>3-30</td>\n",
       "      <td>4-5</td>\n",
       "      <td>4-14</td>\n",
       "    </tr>\n",
       "    <tr>\n",
       "      <th>4</th>\n",
       "      <td>8-23</td>\n",
       "      <td>4-50</td>\n",
       "      <td>0-0</td>\n",
       "      <td>2-14</td>\n",
       "    </tr>\n",
       "  </tbody>\n",
       "</table>\n",
       "</div>"
      ],
      "text/plain": [
       "  completion_attempts penalty_yards fourthDown_eff thirdDown_eff\n",
       "0               31-38          1-10            2-2         10-15\n",
       "1               15-29           1-9            2-3          1-12\n",
       "2               20-25         10-92            0-0          5-10\n",
       "3               36-48          3-30            4-5          4-14\n",
       "4                8-23          4-50            0-0          2-14"
      ]
     },
     "execution_count": 4,
     "metadata": {},
     "output_type": "execute_result"
    }
   ],
   "source": [
    "##Display the hyphenated data columns\n",
    "joinedDf[['completion_attempts','penalty_yards','fourthDown_eff','thirdDown_eff']].head()"
   ]
  },
  {
   "cell_type": "markdown",
   "id": "1bf4588a",
   "metadata": {},
   "source": [
    "One of the first things that needs to be addressed is if these data columns all have a \"-\" present, if not then the data may have an incorrect component to it. "
   ]
  },
  {
   "cell_type": "code",
   "execution_count": 5,
   "id": "1a3d1c98",
   "metadata": {},
   "outputs": [
    {
     "name": "stdout",
     "output_type": "stream",
     "text": [
      "+---------------------+----------+\n",
      "| Column              | Status   |\n",
      "+=====================+==========+\n",
      "| completion_attempts | Correct  |\n",
      "+---------------------+----------+\n",
      "| penalty_yards       | Correct  |\n",
      "+---------------------+----------+\n",
      "| fourthDown_eff      | Correct  |\n",
      "+---------------------+----------+\n",
      "| thirdDown_eff       | Correct  |\n",
      "+---------------------+----------+\n"
     ]
    }
   ],
   "source": [
    "##Display results of assessing if all data is hypenated\n",
    "hyph_colNames = ['completion_attempts','penalty_yards','fourthDown_eff','thirdDown_eff']\n",
    "hyph_data = [['Column','Status']]\n",
    "for i in hyph_colNames:\n",
    "    if len(joinedDf[joinedDf[i].str.contains('-')]) != len(joinedDf):\n",
    "        hyph_data.append([i,'Incorrect'])\n",
    "    else:\n",
    "        hyph_data.append([i,'Correct'])\n",
    "print(tabulate(hyph_data,headers='firstrow',tablefmt='grid'))"
   ]
  },
  {
   "cell_type": "markdown",
   "id": "12c3765e",
   "metadata": {},
   "source": [
    "The above results indicates that all data has a \"-\" present. This result generically indicates the data is a correct structure and we can move on to splitting the hyphenated data up. We now write a function to split hyphenated data into two new columns. "
   ]
  },
  {
   "cell_type": "code",
   "execution_count": 7,
   "id": "60c7d5e5",
   "metadata": {},
   "outputs": [
    {
     "data": {
      "text/plain": [
       "Index(['gameId', 'week_num', 'school', 'rush_td', 'pass_td', 'rush_attempt',\n",
       "       'yp_rush', 'rush_yards', 'yp_pass', 'completion_attempts', 'pass_yards',\n",
       "       'total_yards', 'turnovers', 'tfl', 'sacks', 'qb_hurries',\n",
       "       'fumbles_lost', 'interceptions', 'possession_time', 'penalty_yards',\n",
       "       'fourthDown_eff', 'thirdDown_eff', 'firstDowns', 'defensive_td',\n",
       "       'homeBool', 'gameSeason', 'team_id', 'points', 'Quarterly_points',\n",
       "       'elo', 'offensive_plays', 'offensive_drives', 'offensive_ppa',\n",
       "       'offensive_successRate', 'offensive_explosiveness',\n",
       "       'offensive_powerSuccess', 'offensive_stuffRate', 'offensive_lineYards',\n",
       "       'offensive_secondLevelYards', 'offensive_openFieldYards', 'passAttempt',\n",
       "       'passComplete'],\n",
       "      dtype='object')"
      ]
     },
     "execution_count": 7,
     "metadata": {},
     "output_type": "execute_result"
    }
   ],
   "source": [
    "joinedDf.columns"
   ]
  },
  {
   "cell_type": "code",
   "execution_count": 27,
   "id": "741642e2",
   "metadata": {},
   "outputs": [
    {
     "name": "stdout",
     "output_type": "stream",
     "text": [
      "6092\n"
     ]
    }
   ],
   "source": [
    "#joinedDf['penalty_yards'].loc[joinedDf['penalty_yards'].str.len() < 4].str.split('-')\n",
    "ct = 0\n",
    "for i in joinedDf['penalty_yards'].str.split('-'):\n",
    "    if len(i) != 2:\n",
    "        print(ct)\n",
    "    ct+=1"
   ]
  },
  {
   "cell_type": "code",
   "execution_count": 30,
   "id": "49ceb4d8",
   "metadata": {},
   "outputs": [
    {
     "data": {
      "text/plain": [
       "'7--4953'"
      ]
     },
     "execution_count": 30,
     "metadata": {},
     "output_type": "execute_result"
    }
   ],
   "source": [
    "joinedDf['penalty_yards'][6092]"
   ]
  },
  {
   "cell_type": "code",
   "execution_count": 6,
   "id": "7fcbab41",
   "metadata": {},
   "outputs": [
    {
     "name": "stdout",
     "output_type": "stream",
     "text": [
      "0\n",
      "1\n"
     ]
    },
    {
     "ename": "ValueError",
     "evalue": "Columns must be same length as key",
     "output_type": "error",
     "traceback": [
      "\u001b[1;31m---------------------------------------------------------------------------\u001b[0m",
      "\u001b[1;31mValueError\u001b[0m                                Traceback (most recent call last)",
      "\u001b[1;32m<ipython-input-6-c81c83540d67>\u001b[0m in \u001b[0;36m<module>\u001b[1;34m\u001b[0m\n\u001b[0;32m     13\u001b[0m \u001b[1;32mfor\u001b[0m \u001b[0mi\u001b[0m \u001b[1;32min\u001b[0m \u001b[0mrange\u001b[0m\u001b[1;33m(\u001b[0m\u001b[0mlen\u001b[0m\u001b[1;33m(\u001b[0m\u001b[0mhyph_colNames\u001b[0m\u001b[1;33m)\u001b[0m\u001b[1;33m)\u001b[0m\u001b[1;33m:\u001b[0m\u001b[1;33m\u001b[0m\u001b[1;33m\u001b[0m\u001b[0m\n\u001b[0;32m     14\u001b[0m     \u001b[0mprint\u001b[0m\u001b[1;33m(\u001b[0m\u001b[0mi\u001b[0m\u001b[1;33m)\u001b[0m\u001b[1;33m\u001b[0m\u001b[1;33m\u001b[0m\u001b[0m\n\u001b[1;32m---> 15\u001b[1;33m     \u001b[0mjoinedDf\u001b[0m \u001b[1;33m=\u001b[0m \u001b[0mhyphenated_split\u001b[0m\u001b[1;33m(\u001b[0m\u001b[0mjoinedDf\u001b[0m\u001b[1;33m,\u001b[0m\u001b[0mhyph_colNames\u001b[0m\u001b[1;33m[\u001b[0m\u001b[0mi\u001b[0m\u001b[1;33m]\u001b[0m\u001b[1;33m,\u001b[0m\u001b[0mhyph_newNames\u001b[0m\u001b[1;33m[\u001b[0m\u001b[0mi\u001b[0m\u001b[1;33m]\u001b[0m\u001b[1;33m)\u001b[0m\u001b[1;33m\u001b[0m\u001b[1;33m\u001b[0m\u001b[0m\n\u001b[0m",
      "\u001b[1;32m<ipython-input-6-c81c83540d67>\u001b[0m in \u001b[0;36mhyphenated_split\u001b[1;34m(df, colName, newNames, delim)\u001b[0m\n\u001b[0;32m      4\u001b[0m \u001b[1;33m\u001b[0m\u001b[0m\n\u001b[0;32m      5\u001b[0m     \u001b[1;31m##Split by delimineter to create new columns and drop old column\u001b[0m\u001b[1;33m\u001b[0m\u001b[1;33m\u001b[0m\u001b[1;33m\u001b[0m\u001b[0m\n\u001b[1;32m----> 6\u001b[1;33m     \u001b[0mdf\u001b[0m\u001b[1;33m[\u001b[0m\u001b[0mnewNames\u001b[0m\u001b[1;33m]\u001b[0m \u001b[1;33m=\u001b[0m \u001b[0mdf\u001b[0m\u001b[1;33m[\u001b[0m\u001b[0mcolName\u001b[0m\u001b[1;33m]\u001b[0m\u001b[1;33m.\u001b[0m\u001b[0mstr\u001b[0m\u001b[1;33m.\u001b[0m\u001b[0msplit\u001b[0m\u001b[1;33m(\u001b[0m\u001b[0mdelim\u001b[0m\u001b[1;33m,\u001b[0m \u001b[0mexpand\u001b[0m\u001b[1;33m=\u001b[0m\u001b[1;32mTrue\u001b[0m\u001b[1;33m)\u001b[0m\u001b[1;33m\u001b[0m\u001b[1;33m\u001b[0m\u001b[0m\n\u001b[0m\u001b[0;32m      7\u001b[0m \u001b[1;33m\u001b[0m\u001b[0m\n\u001b[0;32m      8\u001b[0m     \u001b[1;32mreturn\u001b[0m \u001b[0mdf\u001b[0m\u001b[1;33m\u001b[0m\u001b[1;33m\u001b[0m\u001b[0m\n",
      "\u001b[1;32m~\\anaconda3\\lib\\site-packages\\pandas\\core\\frame.py\u001b[0m in \u001b[0;36m__setitem__\u001b[1;34m(self, key, value)\u001b[0m\n\u001b[0;32m   3598\u001b[0m             \u001b[0mself\u001b[0m\u001b[1;33m.\u001b[0m\u001b[0m_setitem_frame\u001b[0m\u001b[1;33m(\u001b[0m\u001b[0mkey\u001b[0m\u001b[1;33m,\u001b[0m \u001b[0mvalue\u001b[0m\u001b[1;33m)\u001b[0m\u001b[1;33m\u001b[0m\u001b[1;33m\u001b[0m\u001b[0m\n\u001b[0;32m   3599\u001b[0m         \u001b[1;32melif\u001b[0m \u001b[0misinstance\u001b[0m\u001b[1;33m(\u001b[0m\u001b[0mkey\u001b[0m\u001b[1;33m,\u001b[0m \u001b[1;33m(\u001b[0m\u001b[0mSeries\u001b[0m\u001b[1;33m,\u001b[0m \u001b[0mnp\u001b[0m\u001b[1;33m.\u001b[0m\u001b[0mndarray\u001b[0m\u001b[1;33m,\u001b[0m \u001b[0mlist\u001b[0m\u001b[1;33m,\u001b[0m \u001b[0mIndex\u001b[0m\u001b[1;33m)\u001b[0m\u001b[1;33m)\u001b[0m\u001b[1;33m:\u001b[0m\u001b[1;33m\u001b[0m\u001b[1;33m\u001b[0m\u001b[0m\n\u001b[1;32m-> 3600\u001b[1;33m             \u001b[0mself\u001b[0m\u001b[1;33m.\u001b[0m\u001b[0m_setitem_array\u001b[0m\u001b[1;33m(\u001b[0m\u001b[0mkey\u001b[0m\u001b[1;33m,\u001b[0m \u001b[0mvalue\u001b[0m\u001b[1;33m)\u001b[0m\u001b[1;33m\u001b[0m\u001b[1;33m\u001b[0m\u001b[0m\n\u001b[0m\u001b[0;32m   3601\u001b[0m         \u001b[1;32melif\u001b[0m \u001b[0misinstance\u001b[0m\u001b[1;33m(\u001b[0m\u001b[0mvalue\u001b[0m\u001b[1;33m,\u001b[0m \u001b[0mDataFrame\u001b[0m\u001b[1;33m)\u001b[0m\u001b[1;33m:\u001b[0m\u001b[1;33m\u001b[0m\u001b[1;33m\u001b[0m\u001b[0m\n\u001b[0;32m   3602\u001b[0m             \u001b[0mself\u001b[0m\u001b[1;33m.\u001b[0m\u001b[0m_set_item_frame_value\u001b[0m\u001b[1;33m(\u001b[0m\u001b[0mkey\u001b[0m\u001b[1;33m,\u001b[0m \u001b[0mvalue\u001b[0m\u001b[1;33m)\u001b[0m\u001b[1;33m\u001b[0m\u001b[1;33m\u001b[0m\u001b[0m\n",
      "\u001b[1;32m~\\anaconda3\\lib\\site-packages\\pandas\\core\\frame.py\u001b[0m in \u001b[0;36m_setitem_array\u001b[1;34m(self, key, value)\u001b[0m\n\u001b[0;32m   3637\u001b[0m         \u001b[1;32melse\u001b[0m\u001b[1;33m:\u001b[0m\u001b[1;33m\u001b[0m\u001b[1;33m\u001b[0m\u001b[0m\n\u001b[0;32m   3638\u001b[0m             \u001b[1;32mif\u001b[0m \u001b[0misinstance\u001b[0m\u001b[1;33m(\u001b[0m\u001b[0mvalue\u001b[0m\u001b[1;33m,\u001b[0m \u001b[0mDataFrame\u001b[0m\u001b[1;33m)\u001b[0m\u001b[1;33m:\u001b[0m\u001b[1;33m\u001b[0m\u001b[1;33m\u001b[0m\u001b[0m\n\u001b[1;32m-> 3639\u001b[1;33m                 \u001b[0mcheck_key_length\u001b[0m\u001b[1;33m(\u001b[0m\u001b[0mself\u001b[0m\u001b[1;33m.\u001b[0m\u001b[0mcolumns\u001b[0m\u001b[1;33m,\u001b[0m \u001b[0mkey\u001b[0m\u001b[1;33m,\u001b[0m \u001b[0mvalue\u001b[0m\u001b[1;33m)\u001b[0m\u001b[1;33m\u001b[0m\u001b[1;33m\u001b[0m\u001b[0m\n\u001b[0m\u001b[0;32m   3640\u001b[0m                 \u001b[1;32mfor\u001b[0m \u001b[0mk1\u001b[0m\u001b[1;33m,\u001b[0m \u001b[0mk2\u001b[0m \u001b[1;32min\u001b[0m \u001b[0mzip\u001b[0m\u001b[1;33m(\u001b[0m\u001b[0mkey\u001b[0m\u001b[1;33m,\u001b[0m \u001b[0mvalue\u001b[0m\u001b[1;33m.\u001b[0m\u001b[0mcolumns\u001b[0m\u001b[1;33m)\u001b[0m\u001b[1;33m:\u001b[0m\u001b[1;33m\u001b[0m\u001b[1;33m\u001b[0m\u001b[0m\n\u001b[0;32m   3641\u001b[0m                     \u001b[0mself\u001b[0m\u001b[1;33m[\u001b[0m\u001b[0mk1\u001b[0m\u001b[1;33m]\u001b[0m \u001b[1;33m=\u001b[0m \u001b[0mvalue\u001b[0m\u001b[1;33m[\u001b[0m\u001b[0mk2\u001b[0m\u001b[1;33m]\u001b[0m\u001b[1;33m\u001b[0m\u001b[1;33m\u001b[0m\u001b[0m\n",
      "\u001b[1;32m~\\anaconda3\\lib\\site-packages\\pandas\\core\\indexers.py\u001b[0m in \u001b[0;36mcheck_key_length\u001b[1;34m(columns, key, value)\u001b[0m\n\u001b[0;32m    426\u001b[0m     \u001b[1;32mif\u001b[0m \u001b[0mcolumns\u001b[0m\u001b[1;33m.\u001b[0m\u001b[0mis_unique\u001b[0m\u001b[1;33m:\u001b[0m\u001b[1;33m\u001b[0m\u001b[1;33m\u001b[0m\u001b[0m\n\u001b[0;32m    427\u001b[0m         \u001b[1;32mif\u001b[0m \u001b[0mlen\u001b[0m\u001b[1;33m(\u001b[0m\u001b[0mvalue\u001b[0m\u001b[1;33m.\u001b[0m\u001b[0mcolumns\u001b[0m\u001b[1;33m)\u001b[0m \u001b[1;33m!=\u001b[0m \u001b[0mlen\u001b[0m\u001b[1;33m(\u001b[0m\u001b[0mkey\u001b[0m\u001b[1;33m)\u001b[0m\u001b[1;33m:\u001b[0m\u001b[1;33m\u001b[0m\u001b[1;33m\u001b[0m\u001b[0m\n\u001b[1;32m--> 428\u001b[1;33m             \u001b[1;32mraise\u001b[0m \u001b[0mValueError\u001b[0m\u001b[1;33m(\u001b[0m\u001b[1;34m\"Columns must be same length as key\"\u001b[0m\u001b[1;33m)\u001b[0m\u001b[1;33m\u001b[0m\u001b[1;33m\u001b[0m\u001b[0m\n\u001b[0m\u001b[0;32m    429\u001b[0m     \u001b[1;32melse\u001b[0m\u001b[1;33m:\u001b[0m\u001b[1;33m\u001b[0m\u001b[1;33m\u001b[0m\u001b[0m\n\u001b[0;32m    430\u001b[0m         \u001b[1;31m# Missing keys in columns are represented as -1\u001b[0m\u001b[1;33m\u001b[0m\u001b[1;33m\u001b[0m\u001b[1;33m\u001b[0m\u001b[0m\n",
      "\u001b[1;31mValueError\u001b[0m: Columns must be same length as key"
     ]
    }
   ],
   "source": [
    "##Define function to split hyphenated data into two new columns\n",
    "####NOTE: delimineter is default \"-\" but there is an option to change in for function generalizability\n",
    "def hyphenated_split(df,colName,newNames,delim='-'):\n",
    "    \n",
    "    ##Split by delimineter to create new columns and drop old column\n",
    "    df[newNames] = df[colName].str.split(delim, expand=True)\n",
    "    \n",
    "    return df\n",
    "\n",
    "##Now for each of the hyphenated columns lets perform this transformation \n",
    "hyph_newNames = [['passAttempt','passComplete'],['penalties','penalty_yardage'],\n",
    "                 ['fourthAttempts','fourthSuccess'],['thirdAttempts','thirdSuccess']]\n",
    "for i in range(len(hyph_colNames)):\n",
    "    print(i)\n",
    "    joinedDf = hyphenated_split(joinedDf,hyph_colNames[i],hyph_newNames[i])"
   ]
  }
 ],
 "metadata": {
  "kernelspec": {
   "display_name": "Python 3",
   "language": "python",
   "name": "python3"
  },
  "language_info": {
   "codemirror_mode": {
    "name": "ipython",
    "version": 3
   },
   "file_extension": ".py",
   "mimetype": "text/x-python",
   "name": "python",
   "nbconvert_exporter": "python",
   "pygments_lexer": "ipython3",
   "version": "3.7.11"
  }
 },
 "nbformat": 4,
 "nbformat_minor": 5
}
